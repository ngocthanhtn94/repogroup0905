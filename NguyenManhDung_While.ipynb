{
 "cells": [
  {
   "cell_type": "code",
   "execution_count": null,
   "id": "272a3a95",
   "metadata": {},
   "outputs": [],
   "source": [
    "'''\n",
    "Khởi động 1: Viết chương trình in ra tất cả các số chia hết cho cả 5 và 7 trong khoảng từ 1500 đến 2700\n",
    "'''"
   ]
  },
  {
   "cell_type": "code",
   "execution_count": null,
   "id": "18dbe371",
   "metadata": {},
   "outputs": [],
   "source": [
    "i = 1500\n",
    "while i <= 2700:\n",
    "    if i % 5 == 0 and i % 7 == 0:\n",
    "        print(i)\n",
    "    i += 1"
   ]
  },
  {
   "cell_type": "code",
   "execution_count": null,
   "id": "87f74c6c",
   "metadata": {},
   "outputs": [],
   "source": [
    "'''\n",
    "Bài 1: Viết chương trình nhập vào chiều cao tam giác vuông và in ra tam giác có hình dạng như sau:\n",
    "*****\n",
    "****\n",
    "***\n",
    "** \n",
    "*\n",
    "'''"
   ]
  },
  {
   "cell_type": "code",
   "execution_count": null,
   "id": "07c78de0",
   "metadata": {},
   "outputs": [],
   "source": [
    "height = int(input('Hãy nhập vào chiều cao của tam giác vuông: '))\n",
    "i = height\n",
    "while i > 0:\n",
    "    print(\"*\" * i)\n",
    "    i -= 1"
   ]
  },
  {
   "cell_type": "code",
   "execution_count": null,
   "id": "ea4c14a8",
   "metadata": {},
   "outputs": [],
   "source": [
    "'''\n",
    "Bài 2: Viết chương trình nhập vào chiều cao tam giác vuông và in ra tam giác có hình dạng như sau:\n",
    "* * * * * *\n",
    "* * * * *\n",
    "* * * *\n",
    "* * *\n",
    "* *\n",
    "*\n",
    "'''"
   ]
  },
  {
   "cell_type": "code",
   "execution_count": null,
   "id": "88099b75",
   "metadata": {},
   "outputs": [],
   "source": [
    "height = int(input('Hãy nhập vào chiều cao của tam giác vuông: '))\n",
    "i = height\n",
    "while i > 0:\n",
    "    print('* ' * i)\n",
    "    i -= 1"
   ]
  },
  {
   "cell_type": "code",
   "execution_count": null,
   "id": "bd17e085",
   "metadata": {},
   "outputs": [],
   "source": [
    "'''\n",
    "Bài 3: Viết chương trình nhập vào chiều cao tam giác vuông và in ra tam giác có hình dạng như sau:\n",
    "* - * - *\n",
    "* - * -\n",
    "* - *\n",
    "* -\n",
    "*\n",
    "'''"
   ]
  },
  {
   "cell_type": "code",
   "execution_count": null,
   "id": "fea8474d",
   "metadata": {},
   "outputs": [],
   "source": [
    "height = int(input('Hãy nhập vào chiều cao của tam giác vuông: '))\n",
    "i = height\n",
    "while i > 0:\n",
    "    a = 0\n",
    "    temp = ''\n",
    "    while a < i:\n",
    "        if a % 2 == 0:\n",
    "            temp = temp + '* '\n",
    "        elif a % 2 == 1:\n",
    "            temp = temp + '- '\n",
    "        a += 1\n",
    "    print(temp)\n",
    "    i -=1"
   ]
  },
  {
   "cell_type": "code",
   "execution_count": null,
   "id": "105b66bc",
   "metadata": {},
   "outputs": [],
   "source": [
    "'''\n",
    "Bài 4: Viết chương trình nhập vào một số nguyên n và in ra các số từ 1 đến n với các trường hợp ngoại lệ như sau:\n",
    "- Nếu số đó chia hết cho 3 thì in \"py\"\n",
    "- Nếu số đó chia hết cho 7 thì in \"thon\"\n",
    "- Nếu số đó chia hết cho cả 3 và 7 thì in \"python\"\n",
    "\n",
    "Ví dụ: n = 25\n",
    "1\n",
    "2\n",
    "py\n",
    "4\n",
    "5\n",
    "py\n",
    "thon\n",
    "8\n",
    "py\n",
    "10\n",
    "11\n",
    "py\n",
    "13\n",
    "thon\n",
    "py\n",
    "16\n",
    "17\n",
    "py\n",
    "19\n",
    "20\n",
    "python\n",
    "22\n",
    "23\n",
    "py\n",
    "25\n",
    "'''"
   ]
  },
  {
   "cell_type": "code",
   "execution_count": null,
   "id": "8312c000",
   "metadata": {},
   "outputs": [],
   "source": [
    "n = int(input('Hãy nhập số tự nhiên n: '))\n",
    "i = 1\n",
    "while i <= n:\n",
    "    if i % 3 == 0 and i % 7 != 0:\n",
    "        print(\"py\")\n",
    "    elif i % 7 == 0 and i % 3 != 0:\n",
    "        print(\"thon\")\n",
    "    elif i % 3 == 0 and i % 7 == 0:\n",
    "        print(\"python\")\n",
    "    else:\n",
    "        print(i)\n",
    "    i += 1"
   ]
  },
  {
   "cell_type": "code",
   "execution_count": null,
   "id": "3689744c",
   "metadata": {},
   "outputs": [],
   "source": [
    "'''\n",
    "Bài 5: Viết chương trình nhập vào một số và kiểm tra xem số đó có phải là số nguyên tố hay không\n",
    "Note: Số nguyên tố là số chỉ chia hết cho 1 và chính nó\n",
    "'''"
   ]
  },
  {
   "cell_type": "code",
   "execution_count": 28,
   "id": "0be0178f",
   "metadata": {},
   "outputs": [
    {
     "name": "stdout",
     "output_type": "stream",
     "text": [
      "Số 10 không phải số nguyên tố\n"
     ]
    }
   ],
   "source": [
    "n = int(input('Hãy nhập vào 1 số bất kì: '))\n",
    "def check_so_nguyen_to(a):\n",
    "    i = 2\n",
    "    temp = 0\n",
    "    while i < a:\n",
    "        if a % i == 0:\n",
    "            temp += 1\n",
    "        i += 1\n",
    "    if temp == 0:\n",
    "        print(f'Số {n} là số nguyên tố')\n",
    "    else:\n",
    "        print(f'Số {n} không phải số nguyên tố')\n",
    "    \n",
    "check_so_nguyen_to(n)\n"
   ]
  },
  {
   "cell_type": "code",
   "execution_count": null,
   "id": "d76fa311",
   "metadata": {},
   "outputs": [],
   "source": [
    "'''\n",
    "Bài 6: Viết chương trình mô phỏng trò chơi kéo búa bao theo luật chơi như sau:\n",
    "Quy ước: 1 - búa, 2 - kéo, 3 - bao\n",
    "Khi trò chơi bắt đầu, yêu cầu người chơi nhập 1 số từ bàn phím đại diện cho kéo, búa, bao\n",
    "Chương trình tự random ra một lựa chọn từ 1 đến 3.\n",
    "Nếu người chơi thua thì tiếp tục chơi cho đến khi thắng thì kết thúc chương trình.\n",
    "Ví dụ:\n",
    "\n",
    "Mời lựa chọn(1 - búa, 2 - kéo, 3 - bao): 1\n",
    "Máy tính chọn: 3\n",
    "Người chơi thua.\n",
    "\n",
    "Mời lựa chọn(1 - búa, 2 - kéo, 3 - bao): 2\n",
    "Máy tính chọn: 1\n",
    "Người chơi thua.\n",
    "\n",
    "Mời lựa chọn(1 - búa, 2 - kéo, 3 - bao): 1\n",
    "Máy tính chọn: 2\n",
    "Người chơi thắng.\n",
    "'''"
   ]
  },
  {
   "cell_type": "code",
   "execution_count": 33,
   "id": "fbc31379",
   "metadata": {},
   "outputs": [
    {
     "name": "stdout",
     "output_type": "stream",
     "text": [
      "Quy ước: 1 - búa, 2 - kéo, 3 - bao\n",
      "Mời lựa chọn(1 - búa, 2 - kéo, 3 - bao): 1\n",
      "Máy tính chọn: 3\n",
      "Người chơi thua\n",
      "Mời lựa chọn(1 - búa, 2 - kéo, 3 - bao): 2\n",
      "Máy tính chọn: 3\n",
      "Người chơi thắng\n"
     ]
    }
   ],
   "source": [
    "import random\n",
    "\n",
    "print('Quy ước: 1 - búa, 2 - kéo, 3 - bao')\n",
    "n = 0\n",
    "com = random.randint(1,3)\n",
    "win = 0\n",
    "\n",
    "while win <= 0:\n",
    "    n = int(input('Người chơi hãy nhập số từ 1 đến 3 tương ứng: '))\n",
    "    if n == 1 and com == 2:\n",
    "        win += 1\n",
    "        print(f\"Mời lựa chọn(1 - búa, 2 - kéo, 3 - bao): {n}\")\n",
    "        print(f'Máy tính chọn: {com}')\n",
    "        print(\"Người chơi thắng\")\n",
    "    elif n == 1 and com == 3:\n",
    "        print(f\"Mời lựa chọn(1 - búa, 2 - kéo, 3 - bao): {n}\")\n",
    "        print(f'Máy tính chọn: {com}')\n",
    "        print(\"Người chơi thua\")\n",
    "    elif n == 2 and com == 1:\n",
    "        print(f\"Mời lựa chọn(1 - búa, 2 - kéo, 3 - bao): {n}\")\n",
    "        print(f'Máy tính chọn: {com}')\n",
    "        print(\"Người chơi thua\")\n",
    "    elif n == 2 and com == 3:\n",
    "        win += 1\n",
    "        print(f\"Mời lựa chọn(1 - búa, 2 - kéo, 3 - bao): {n}\")\n",
    "        print(f'Máy tính chọn: {com}')\n",
    "        print(\"Người chơi thắng\")\n",
    "    elif n == 3 and com == 1:\n",
    "        win += 1\n",
    "        print(f\"Mời lựa chọn(1 - búa, 2 - kéo, 3 - bao): {n}\")\n",
    "        print(f'Máy tính chọn: {com}')\n",
    "        print(\"Người chơi thắng\")\n",
    "    elif n == 3 and com == 2:\n",
    "        print(f\"Mời lựa chọn(1 - búa, 2 - kéo, 3 - bao): {n}\")\n",
    "        print(f'Máy tính chọn: {com}')\n",
    "        print(\"Người chơi thua\")\n",
    "    "
   ]
  }
 ],
 "metadata": {
  "kernelspec": {
   "display_name": "Python 3 (ipykernel)",
   "language": "python",
   "name": "python3"
  },
  "language_info": {
   "codemirror_mode": {
    "name": "ipython",
    "version": 3
   },
   "file_extension": ".py",
   "mimetype": "text/x-python",
   "name": "python",
   "nbconvert_exporter": "python",
   "pygments_lexer": "ipython3",
   "version": "3.12.2"
  }
 },
 "nbformat": 4,
 "nbformat_minor": 5
}
